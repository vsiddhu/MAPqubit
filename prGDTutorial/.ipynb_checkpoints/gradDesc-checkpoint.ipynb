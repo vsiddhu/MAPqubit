{
 "metadata": {
  "name": "",
  "signature": "sha256:f1d1ef943d00c6930981ace56b574dbc379eb892bd740ab4f12cc02e106ac46e"
 },
 "nbformat": 3,
 "nbformat_minor": 0,
 "worksheets": [
  {
   "cells": [
    {
     "cell_type": "code",
     "collapsed": false,
     "input": [
      "#Aim: Prepare a notebook for minimizing a convex function over qubit Bloch vectors\n",
      "#     using projected gradient descent\n",
      "\n",
      "#Author: Vikesh Siddhu,\n",
      "#        Department of Physics,\n",
      "#        Carnegie Mellon University,\n",
      "#        Pittsburgh, PA, USA\n",
      "\n",
      "#Date: 7th Dec'18"
     ],
     "language": "python",
     "metadata": {},
     "outputs": []
    },
    {
     "cell_type": "code",
     "collapsed": false,
     "input": [
      "%pylab inline"
     ],
     "language": "python",
     "metadata": {},
     "outputs": [
      {
       "output_type": "stream",
       "stream": "stdout",
       "text": [
        "Populating the interactive namespace from numpy and matplotlib\n"
       ]
      }
     ],
     "prompt_number": 10
    },
    {
     "cell_type": "code",
     "collapsed": false,
     "input": [
      "from prGD import doPrGDVec as solver\n",
      "import copy as cp\n",
      "import time as time"
     ],
     "language": "python",
     "metadata": {},
     "outputs": [],
     "prompt_number": 11
    },
    {
     "cell_type": "code",
     "collapsed": false,
     "input": [
      "#Define a convex function to be minimized and its gradient \n",
      "def fun(x, aVec, lm=1.):\n",
      "    x = x-aVec\n",
      "    vl = np.dot(x,x)\n",
      "    fx = vl+ abs(lm)*vl*vl\n",
      "    return fx\n",
      "\n",
      "#Gradient and function must accept same arguments \n",
      "def gradfun(x, aVec, lm=1.):\n",
      "    x = x-aVec\n",
      "    vl = np.dot(x,x)\n",
      "    grad = 2.*x*(1. + 2.*abs(lm)*vl)\n",
      "    return grad"
     ],
     "language": "python",
     "metadata": {},
     "outputs": [],
     "prompt_number": 12
    },
    {
     "cell_type": "code",
     "collapsed": false,
     "input": [
      "#Test the gradient function\n",
      "#from scipy.optimize import check_grad\n",
      "#for i in xrange(20):\n",
      "#    xVal = np.random.rand(3)\n",
      "#    aVec = np.random.rand(3)\n",
      "#    lm = np.random.rand()\n",
      "#    print check_grad(fun, gradfun, xVal, aVec, lm)\n"
     ],
     "language": "python",
     "metadata": {},
     "outputs": [],
     "prompt_number": 13
    },
    {
     "cell_type": "code",
     "collapsed": false,
     "input": [
      "#Parameters for the function\n",
      "aVal = np.array([1.,1.,1.])\n",
      "lmVal = 1.\n",
      "\n",
      "\n",
      "#Parameters for Projected Gradient Descent solver\n",
      "grdNrm = 1e-8\n",
      "\n",
      "#Starting point inside the unit ball in R_3\n",
      "x0 = np.random.rand(3)\n",
      "nrm = np.linalg.norm(x0)\n",
      "\n",
      "if nrm > 1.:\n",
      "    x0 = x0/(nrm + 1e-8)\n",
      "\n",
      "#Start optimization\n",
      "tStart = time.time()\n",
      "sol = solver(fun, x0, grdFun = gradfun, maxIter = 75, minIter = 0, \n",
      "             grdNrmMax = grdNrm, stepMax = 2., aVec=aVal, lm=lmVal)\n",
      "tEnd = time.time()\n",
      "#\n",
      "print 'Optimization finished, time taken = ', tEnd - tStart\n"
     ],
     "language": "python",
     "metadata": {},
     "outputs": [
      {
       "output_type": "stream",
       "stream": "stdout",
       "text": [
        "Optimization finished, time taken =  0.00168585777283\n"
       ]
      }
     ],
     "prompt_number": 14
    },
    {
     "cell_type": "code",
     "collapsed": false,
     "input": [
      "#Compute duality gap\n",
      "from prGDQubitFun import dualGap\n",
      "xVal = sol.pts[-1]\n",
      "gradX = gradfun(xVal, aVal, lmVal)\n",
      "dGap = dualGap(gradX, xVal)"
     ],
     "language": "python",
     "metadata": {},
     "outputs": [],
     "prompt_number": 15
    },
    {
     "cell_type": "code",
     "collapsed": false,
     "input": [
      "#Print Optimization statistics\n",
      "print \"Algorithm converged -> \", bool(1-sol.status)\n",
      "print \"Function value at minimum -> \", sol.listVal[-1]\n",
      "print \"Norm of projected gradient vector at minimum -> \", sol.listGrd[-1]\n",
      "print \"Surrogate duality gap -> \", dGap"
     ],
     "language": "python",
     "metadata": {},
     "outputs": [
      {
       "output_type": "stream",
       "stream": "stdout",
       "text": [
        "Algorithm converged ->  True\n",
        "Function value at minimum ->  0.8230854637602087\n",
        "Norm of projected gradient vector at minimum ->  [ 1.89838645e-10 -5.86710902e-10  3.96872257e-10]\n",
        "Surrogate duality gap ->  -4.440892098500626e-16\n"
       ]
      }
     ],
     "prompt_number": 16
    },
    {
     "cell_type": "code",
     "collapsed": false,
     "input": [
      "#Plot the Log[ norm of projected gradient]\n",
      "grd =  cp.deepcopy(sol.listGrd)\n",
      "\n",
      "for i in xrange(len(grd)):\n",
      "    grd[i] = np.linalg.norm(grd[i])\n",
      "    \n",
      "plt.plot(grd)\n",
      "plt.yscale('log')\n",
      "plt.xlabel('Iterations')\n",
      "plt.ylabel('Log[Norm of Gradient]')\n",
      "plt.legend(['Projected Gradient Descent'])\n",
      "plt.show()"
     ],
     "language": "python",
     "metadata": {},
     "outputs": [
      {
       "metadata": {},
       "output_type": "display_data",
       "png": "[encoded data removed]",
       "text": [
        "<matplotlib.figure.Figure at 0x7ff09983c350>"
       ]
      }
     ],
     "prompt_number": 17
    },
    {
     "cell_type": "code",
     "collapsed": false,
     "input": [
      "#Plot the Log[function value - minimum value reached]\n",
      "fVals =  sol.listVal\n",
      "fStar = fVals[-1]\n",
      "fDel = np.array(fVals) - fStar\n",
      "plt.plot(fDel)\n",
      "plt.xlabel('Iterations')\n",
      "plt.yscale('log')\n",
      "plt.ylabel('Log[f - f*]')\n",
      "plt.legend(['Projected Gradient Descent'])\n",
      "plt.show()"
     ],
     "language": "python",
     "metadata": {},
     "outputs": [
      {
       "metadata": {},
       "output_type": "display_data",
       "png": "[encoded data removed]",
       "text": [
        "<matplotlib.figure.Figure at 0x7ff099870290>"
       ]
      }
     ],
     "prompt_number": 18
    },
    {
     "cell_type": "code",
     "collapsed": false,
     "input": [],
     "language": "python",
     "metadata": {},
     "outputs": [],
     "prompt_number": 18
    }
   ],
   "metadata": {}
  }
 ]
}